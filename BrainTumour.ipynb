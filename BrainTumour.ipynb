{
  "nbformat": 4,
  "nbformat_minor": 0,
  "metadata": {
    "colab": {
      "provenance": []
    },
    "kernelspec": {
      "name": "python3",
      "display_name": "Python 3"
    },
    "language_info": {
      "name": "python"
    }
  },
  "cells": [
    {
      "cell_type": "code",
      "execution_count": null,
      "metadata": {
        "id": "hXlV_bk41ts7"
      },
      "outputs": [],
      "source": [
        "import tensorflow as tf\n",
        "from tensorflow import keras\n",
        "from tensorflow.keras import layers\n",
        "from tensorflow.keras.preprocessing.image import ImageDataGenerator\n",
        "#Define image size and batch size\n",
        "IMG_SIZE=224\n",
        "BATCH_SIZE=32"
      ]
    },
    {
      "cell_type": "code",
      "source": [
        "#Define data genetors for train,validation and test sets\n",
        "train_datagen=ImageDataGenerator(\n",
        "    rescale=1./255,\n",
        "    validation_split=0.2\n",
        ")\n",
        "train_generator=train_datagen.flow_from_directory(\n",
        "    '/content/drive/MyDrive/Brain_Tumor_Detection/train',\n",
        "    target_size=(IMG_SIZE, IMG_SIZE),\n",
        "    batch_size=BATCH_SIZE,\n",
        "    class_mode='binary',\n",
        "    subset='training'\n",
        ")\n",
        "val_generator=train_datagen.flow_from_directory(\n",
        "    '/content/drive/MyDrive/Brain_Tumor_Detection/train',\n",
        "    target_size=(IMG_SIZE, IMG_SIZE),\n",
        "    batch_size=BATCH_SIZE,\n",
        "    class_mode='binary',\n",
        "    subset='validation'\n",
        ")\n",
        "test_datagen=ImageDataGenerator(rescale=1./255)\n",
        "\n",
        "test_generator=test_datagen.flow_from_directory(\n",
        "    '/content/drive/MyDrive/Brain_Tumor_Detection/test',\n",
        "    target_size=(IMG_SIZE, IMG_SIZE),\n",
        "    batch_size=BATCH_SIZE,\n",
        "    class_mode='binary',\n",
        ")"
      ],
      "metadata": {
        "colab": {
          "base_uri": "https://localhost:8080/"
        },
        "id": "kn0zt0u_3Ba_",
        "outputId": "3452331f-4abe-4f52-dfcf-5b4657452655"
      },
      "execution_count": null,
      "outputs": [
        {
          "output_type": "stream",
          "name": "stdout",
          "text": [
            "Found 2400 images belonging to 2 classes.\n",
            "Found 600 images belonging to 2 classes.\n",
            "Found 60 images belonging to 1 classes.\n"
          ]
        }
      ]
    },
    {
      "cell_type": "code",
      "source": [
        "#Define the model\n",
        "model=keras.Sequential([\n",
        "    layers.Conv2D(32, (3, 3),activation='relu',input_shape=(IMG_SIZE,IMG_SIZE,3)),\n",
        "    layers.MaxPooling2D((2, 2)),\n",
        "    layers.Conv2D(64, (3, 3),activation='relu'),\n",
        "    layers.MaxPooling2D((2, 2)),\n",
        "    layers.Conv2D(128, (3, 3),activation='relu'),\n",
        "    layers.MaxPooling2D((2, 2)),\n",
        "    layers.Flatten(),\n",
        "    layers.Dense(128,activation='relu'),\n",
        "    layers.Dense(1,activation='sigmoid'),\n",
        "])"
      ],
      "metadata": {
        "id": "g1uDm0wi6HCq"
      },
      "execution_count": null,
      "outputs": []
    },
    {
      "cell_type": "code",
      "source": [
        "#compile the model\n",
        "model.compile(optimizer=\"adam\",loss=\"binary_crossentropy\",metrics=[\"accuracy\"])"
      ],
      "metadata": {
        "id": "RGlM2NPQAhIa"
      },
      "execution_count": null,
      "outputs": []
    },
    {
      "cell_type": "code",
      "source": [
        "history=model.fit(train_generator,validation_data=val_generator,epochs=5)"
      ],
      "metadata": {
        "colab": {
          "base_uri": "https://localhost:8080/"
        },
        "id": "MqWNW7pPA0U-",
        "outputId": "1a682709-7e79-47ab-9062-3b25e99da8bd"
      },
      "execution_count": null,
      "outputs": [
        {
          "output_type": "stream",
          "name": "stdout",
          "text": [
            "Epoch 1/5\n",
            "75/75 [==============================] - 368s 5s/step - loss: 0.5232 - accuracy: 0.7738 - val_loss: 0.3593 - val_accuracy: 0.8400\n",
            "Epoch 2/5\n",
            "75/75 [==============================] - 292s 4s/step - loss: 0.2266 - accuracy: 0.9104 - val_loss: 0.1702 - val_accuracy: 0.9200\n",
            "Epoch 3/5\n",
            "75/75 [==============================] - 315s 4s/step - loss: 0.1149 - accuracy: 0.9588 - val_loss: 0.0661 - val_accuracy: 0.9767\n",
            "Epoch 4/5\n",
            "75/75 [==============================] - 306s 4s/step - loss: 0.0818 - accuracy: 0.9679 - val_loss: 0.0319 - val_accuracy: 0.9933\n",
            "Epoch 5/5\n",
            "75/75 [==============================] - 290s 4s/step - loss: 0.0289 - accuracy: 0.9912 - val_loss: 0.0234 - val_accuracy: 0.9933\n"
          ]
        }
      ]
    },
    {
      "cell_type": "code",
      "source": [
        "model.save(\"Model.h5\",\"label.txt\")"
      ],
      "metadata": {
        "colab": {
          "base_uri": "https://localhost:8080/"
        },
        "id": "hcbZq0YIB4Ch",
        "outputId": "4d52317d-46ff-4c67-8423-2c1f265b9451"
      },
      "execution_count": null,
      "outputs": [
        {
          "output_type": "stream",
          "name": "stderr",
          "text": [
            "/usr/local/lib/python3.10/dist-packages/keras/src/engine/training.py:3103: UserWarning: You are saving your model as an HDF5 file via `model.save()`. This file format is considered legacy. We recommend using instead the native Keras format, e.g. `model.save('my_model.keras')`.\n",
            "  saving_api.save_model(\n"
          ]
        }
      ]
    },
    {
      "cell_type": "code",
      "source": [
        "from tensorflow.keras.models import load_model\n",
        "from tensorflow.keras.preprocessing import image\n",
        "import numpy as np\n",
        "model=load_model('/content/Model.h5')\n",
        "test_image_path='/content/drive/MyDrive/Brain_Tumor_Detection/test/pred/pred1.jpg'\n",
        "img=image.load_img(test_image_path,target_size=(224,224,3))\n",
        "img_array=image.img_to_array(img)\n",
        "img_array=np.expand_dims(img_array,axis=0)\n",
        "img_array/=255.\n",
        "prediction=model.predict(img_array)\n",
        "if prediction < 0.5:\n",
        "  print(\"Prediction: No Tumour (Probability:\",prediction[0][0],\")\")\n",
        "else:\n",
        "  print(\"Prediction: Tumour present (Probability:\",prediction[0][0],\")\")\n",
        "\n"
      ],
      "metadata": {
        "id": "yBWEO4AeFeBm",
        "colab": {
          "base_uri": "https://localhost:8080/"
        },
        "outputId": "6600768b-e725-4253-d7fe-c3fa7ba6222b"
      },
      "execution_count": null,
      "outputs": [
        {
          "output_type": "stream",
          "name": "stdout",
          "text": [
            "1/1 [==============================] - 0s 187ms/step\n",
            "Prediction: No Tumour (Probability: 2.936596e-05 )\n"
          ]
        }
      ]
    },
    {
      "cell_type": "markdown",
      "source": [],
      "metadata": {
        "id": "rVUSA3Z9HrFa"
      }
    }
  ]
}