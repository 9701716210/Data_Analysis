{
  "nbformat": 4,
  "nbformat_minor": 0,
  "metadata": {
    "colab": {
      "provenance": []
    },
    "kernelspec": {
      "name": "python3",
      "display_name": "Python 3"
    },
    "language_info": {
      "name": "python"
    }
  },
  "cells": [
    {
      "cell_type": "markdown",
      "source": [
        "Volume"
      ],
      "metadata": {
        "id": "ejeDPhDKaAjc"
      }
    },
    {
      "cell_type": "code",
      "execution_count": 1,
      "metadata": {
        "id": "pgTfSrj0OlYw",
        "colab": {
          "base_uri": "https://localhost:8080/"
        },
        "outputId": "d594454c-7e83-44c8-e609-697a3aa84bc0"
      },
      "outputs": [
        {
          "output_type": "stream",
          "name": "stdout",
          "text": [
            "volume of data: 7\n"
          ]
        }
      ],
      "source": [
        "import pandas as pd\n",
        "#generate a large volume of random data(eg. 1 millon data points)\n",
        "volume_data = pd.read_csv('/content/drive/MyDrive/insurance_dataset.csv')\n",
        "print(\"volume of data:\",len(volume_data))"
      ]
    },
    {
      "cell_type": "markdown",
      "source": [
        "Velocity"
      ],
      "metadata": {
        "id": "CKljSgygaEq7"
      }
    },
    {
      "cell_type": "code",
      "source": [
        "import time\n",
        "import numpy as np\n",
        "#simulate streaming data every second for 10 seconds\n",
        "velocity_data = pd.read_csv('/content/drive/MyDrive/insurance_dataset.csv')\n",
        "for i in range(10):\n",
        "  velocity_data=np.random.rand( )#generate random data\n",
        "  print(\"velocity data point:\",velocity_data)\n",
        "  time.sleep(2)#wait for 1 second to simulate real-time data stream"
      ],
      "metadata": {
        "colab": {
          "base_uri": "https://localhost:8080/"
        },
        "id": "9i0698sLaEBF",
        "outputId": "17ddfe9e-5904-4245-ec7a-0c1e689beffa"
      },
      "execution_count": 2,
      "outputs": [
        {
          "output_type": "stream",
          "name": "stdout",
          "text": [
            "velocity data point: 0.9747995168555771\n",
            "velocity data point: 0.8477850902753159\n",
            "velocity data point: 0.630156738278244\n",
            "velocity data point: 0.7018175384478514\n",
            "velocity data point: 0.4716013252051149\n",
            "velocity data point: 0.41759777660121045\n",
            "velocity data point: 0.35599664520097174\n",
            "velocity data point: 0.5036351802565767\n",
            "velocity data point: 0.9120891349810154\n",
            "velocity data point: 0.8688526268862384\n"
          ]
        }
      ]
    },
    {
      "cell_type": "markdown",
      "source": [
        "Veracity"
      ],
      "metadata": {
        "id": "vFaib5qYadxY"
      }
    },
    {
      "cell_type": "code",
      "source": [
        "import pandas as pd\n",
        "import random\n",
        "#generate some random data with noise\n",
        "veracity_data = pd.read_csv('/content/drive/MyDrive/insurance_dataset.csv')\n",
        "veracity_data=[random.choice([1,2,3,None])for _ in range(20)]\n",
        "print(\"veracity data:\",veracity_data)"
      ],
      "metadata": {
        "colab": {
          "base_uri": "https://localhost:8080/"
        },
        "id": "bjmp1X-paaQB",
        "outputId": "08959d5b-506b-4b95-f7f1-b5cc5a03bf0a"
      },
      "execution_count": 3,
      "outputs": [
        {
          "output_type": "stream",
          "name": "stdout",
          "text": [
            "veracity data: [3, 1, None, 2, 3, 2, None, 2, 2, 2, 3, 1, 2, 3, None, None, 3, 2, 3, 2]\n"
          ]
        }
      ]
    },
    {
      "cell_type": "markdown",
      "source": [
        "Variety"
      ],
      "metadata": {
        "id": "wDQundsDauV9"
      }
    },
    {
      "cell_type": "code",
      "source": [
        "print(\"Variety of data:\")\n",
        "print(volume_data.info())"
      ],
      "metadata": {
        "colab": {
          "base_uri": "https://localhost:8080/"
        },
        "id": "C-gIMZuaar0i",
        "outputId": "70751ba2-e781-4c9d-a893-55cb13a26e9e"
      },
      "execution_count": 4,
      "outputs": [
        {
          "output_type": "stream",
          "name": "stdout",
          "text": [
            "Variety of data:\n",
            "<class 'pandas.core.frame.DataFrame'>\n",
            "RangeIndex: 7 entries, 0 to 6\n",
            "Data columns (total 2 columns):\n",
            " #   Column   Non-Null Count  Dtype\n",
            "---  ------   --------------  -----\n",
            " 0   Age      7 non-null      int64\n",
            " 1   Premium  7 non-null      int64\n",
            "dtypes: int64(2)\n",
            "memory usage: 240.0 bytes\n",
            "None\n"
          ]
        }
      ]
    },
    {
      "cell_type": "code",
      "source": [
        "structured_data = pd.read_csv('/content/drive/MyDrive/insurance_dataset.csv', sep =',')\n",
        "#structured data\n",
        "print(structured_data)\n",
        "#semi-structured data(JSON)\n",
        "semistructured_data = pd.read_csv('/content/drive/MyDrive/insurance_dataset.csv', sep =',')\n",
        "print(semistructured_data)\n",
        "#unstructured data(text)\n",
        "unstructured_data=\"This is a sample text document.It can contain any information in free form\"\n",
        "print(unstructured_data)"
      ],
      "metadata": {
        "colab": {
          "base_uri": "https://localhost:8080/"
        },
        "id": "xJyhZcLObQiU",
        "outputId": "32184696-5d97-41e4-9f5f-9a47aec7b9e0"
      },
      "execution_count": 5,
      "outputs": [
        {
          "output_type": "stream",
          "name": "stdout",
          "text": [
            "   Age  Premium\n",
            "0   18    10000\n",
            "1   22    15000\n",
            "2   23    18000\n",
            "3   26    21000\n",
            "4   28    24000\n",
            "5   31    26500\n",
            "6   33    27000\n",
            "   Age  Premium\n",
            "0   18    10000\n",
            "1   22    15000\n",
            "2   23    18000\n",
            "3   26    21000\n",
            "4   28    24000\n",
            "5   31    26500\n",
            "6   33    27000\n",
            "This is a sample text document.It can contain any information in free form\n"
          ]
        }
      ]
    }
  ]
}